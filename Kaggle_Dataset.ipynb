{
  "nbformat": 4,
  "nbformat_minor": 0,
  "metadata": {
    "colab": {
      "name": "Kaggle Dataset.ipynb",
      "version": "0.3.2",
      "provenance": [],
      "collapsed_sections": [],
      "include_colab_link": true
    },
    "kernelspec": {
      "name": "python3",
      "display_name": "Python 3"
    }
  },
  "cells": [
    {
      "cell_type": "markdown",
      "metadata": {
        "id": "view-in-github",
        "colab_type": "text"
      },
      "source": [
        "<a href=\"https://colab.research.google.com/github/arkalim/Deep-Learning/blob/master/Kaggle_Dataset.ipynb\" target=\"_parent\"><img src=\"https://colab.research.google.com/assets/colab-badge.svg\" alt=\"Open In Colab\"/></a>"
      ]
    },
    {
      "cell_type": "markdown",
      "metadata": {
        "id": "MuzqXTYJGML0",
        "colab_type": "text"
      },
      "source": [
        "### This notebook will help you download datasets from kaggle directly to your google drive \n"
      ]
    },
    {
      "cell_type": "code",
      "metadata": {
        "id": "eRobJpTwE07B",
        "colab_type": "code",
        "outputId": "be5cd104-4f6d-4490-aff9-f9aa9aa8cfdf",
        "colab": {
          "base_uri": "https://localhost:8080/",
          "height": 34
        }
      },
      "source": [
        "# Mount the drive with the colab notebook\n",
        "\n",
        "from google.colab import drive\n",
        "drive.mount('/content/gdrive')"
      ],
      "execution_count": 0,
      "outputs": [
        {
          "output_type": "stream",
          "text": [
            "Drive already mounted at /content/gdrive; to attempt to forcibly remount, call drive.mount(\"/content/gdrive\", force_remount=True).\n"
          ],
          "name": "stdout"
        }
      ]
    },
    {
      "cell_type": "markdown",
      "metadata": {
        "id": "ZqHUa1ksF3U6",
        "colab_type": "text"
      },
      "source": [
        "##### Go to my account on kaggle and generate new API key.\n",
        "#### kaggle.json file will be downloaded automatically."
      ]
    },
    {
      "cell_type": "code",
      "metadata": {
        "id": "CRZwKtL8E4Z5",
        "colab_type": "code",
        "colab": {}
      },
      "source": [
        "# Now upload the kaggle.json file to colab\n",
        "\n",
        "from google.colab import files\n",
        "files.upload()  #this will prompt you to upload the kaggle.json"
      ],
      "execution_count": 0,
      "outputs": []
    },
    {
      "cell_type": "code",
      "metadata": {
        "id": "Ep7NFKSlE4cq",
        "colab_type": "code",
        "colab": {}
      },
      "source": [
        "# Run this code\n",
        "\n",
        "!pip install -q kaggle\n",
        "!mkdir -p ~/.kaggle\n",
        "!cp kaggle.json ~/.kaggle/\n",
        "!ls ~/.kaggle\n",
        "!chmod 600 /root/.kaggle/kaggle.json  # set permission"
      ],
      "execution_count": 0,
      "outputs": []
    },
    {
      "cell_type": "code",
      "metadata": {
        "id": "B2nFL3zBE4jx",
        "colab_type": "code",
        "colab": {}
      },
      "source": [
        "# Download the dataset to the required destination\n",
        "\n",
        "!kaggle competitions download -c data-science-bowl-2018 -p /content/gdrive/My\\ Drive/AI   # select competition and path"
      ],
      "execution_count": 0,
      "outputs": []
    }
  ]
}