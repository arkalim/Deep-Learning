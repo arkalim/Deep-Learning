{
  "nbformat": 4,
  "nbformat_minor": 0,
  "metadata": {
    "colab": {
      "name": "Colab Tools.ipynb",
      "version": "0.3.2",
      "provenance": [],
      "include_colab_link": true
    },
    "kernelspec": {
      "name": "python3",
      "display_name": "Python 3"
    }
  },
  "cells": [
    {
      "cell_type": "markdown",
      "metadata": {
        "id": "view-in-github",
        "colab_type": "text"
      },
      "source": [
        "<a href=\"https://colab.research.google.com/github/arkalim/Deep-Learning/blob/master/Colab_Tools.ipynb\" target=\"_parent\"><img src=\"https://colab.research.google.com/assets/colab-badge.svg\" alt=\"Open In Colab\"/></a>"
      ]
    },
    {
      "metadata": {
        "id": "FmHNGFZk6hxg",
        "colab_type": "text"
      },
      "cell_type": "markdown",
      "source": [
        "##Google Colab Tools\n",
        "\n",
        "###Mounting Google Drive"
      ]
    },
    {
      "metadata": {
        "id": "QyYb5LID6bD6",
        "colab_type": "code",
        "colab": {}
      },
      "cell_type": "code",
      "source": [
        "from google.colab import drive\n",
        "drive.mount('/content/drive')"
      ],
      "execution_count": 0,
      "outputs": []
    },
    {
      "metadata": {
        "id": "uI67YxWq66Nm",
        "colab_type": "text"
      },
      "cell_type": "markdown",
      "source": [
        "###List Directories in the Drive"
      ]
    },
    {
      "metadata": {
        "id": "CX55JSb67Bw2",
        "colab_type": "code",
        "colab": {}
      },
      "cell_type": "code",
      "source": [
        "!ls \"/content/drive/My Drive/\""
      ],
      "execution_count": 0,
      "outputs": []
    },
    {
      "metadata": {
        "id": "BXBlbXEu7t6q",
        "colab_type": "text"
      },
      "cell_type": "markdown",
      "source": [
        "###Upload Files"
      ]
    },
    {
      "metadata": {
        "id": "Omu5o0IC7uPW",
        "colab_type": "code",
        "colab": {}
      },
      "cell_type": "code",
      "source": [
        "from google.colab import files\n",
        "file = files.upload()"
      ],
      "execution_count": 0,
      "outputs": []
    },
    {
      "metadata": {
        "id": "UQD31XqG8CPo",
        "colab_type": "text"
      },
      "cell_type": "markdown",
      "source": [
        "####To view the names of the files uploded"
      ]
    },
    {
      "metadata": {
        "id": "ymlLm8mb8CZy",
        "colab_type": "code",
        "colab": {}
      },
      "cell_type": "code",
      "source": [
        "for fn in file.keys():\n",
        "  print(fn)"
      ],
      "execution_count": 0,
      "outputs": []
    },
    {
      "metadata": {
        "id": "u7cpFLbi7HDe",
        "colab_type": "text"
      },
      "cell_type": "markdown",
      "source": [
        "###View GPU and RAM specs"
      ]
    },
    {
      "metadata": {
        "id": "0fCJVkKh7NU-",
        "colab_type": "code",
        "colab": {}
      },
      "cell_type": "code",
      "source": [
        "#view GPU and RAM specs\n",
        "!ln -sf /opt/bin/nvidia-smi /usr/bin/nvidia-smi\n",
        "!pip install gputil\n",
        "!pip install psutil\n",
        "!pip install humanize\n",
        "import psutil\n",
        "import humanize\n",
        "import os\n",
        "import GPUtil as GPU\n",
        "GPUs = GPU.getGPUs()\n",
        "# XXX: only one GPU on Colab and isn’t guaranteed\n",
        "gpu = GPUs[0]\n",
        "def printm():\n",
        " process = psutil.Process(os.getpid())\n",
        " print(\"Gen RAM Free: \" + humanize.naturalsize( psutil.virtual_memory().available ), \" | Proc size: \" + humanize.naturalsize( process.memory_info().rss))\n",
        " print(\"GPU RAM Free: {0:.0f}MB | Used: {1:.0f}MB | Util {2:3.0f}% | Total {3:.0f}MB\".format(gpu.memoryFree, gpu.memoryUsed, gpu.memoryUtil*100, gpu.memoryTotal))\n",
        "printm()"
      ],
      "execution_count": 0,
      "outputs": []
    },
    {
      "metadata": {
        "id": "Kx-6TaKt8dVK",
        "colab_type": "text"
      },
      "cell_type": "markdown",
      "source": [
        "###Important Notes\n",
        "\n",
        "####Always read and display images using matplotlib fuctions"
      ]
    },
    {
      "metadata": {
        "id": "PEuBrO3B8nh3",
        "colab_type": "code",
        "colab": {}
      },
      "cell_type": "code",
      "source": [
        "import cv2\n",
        "import numpy as np\n",
        "from keras.models import load_model\n",
        "import matplotlib.pyplot as plt\n",
        "import matplotlib.image as img\n",
        "\n",
        "image_dim = 24\n",
        "image = img.imread(\"/content/drive/My Drive/20180319_165056.jpg\")\n",
        "plt.imshow(image)"
      ],
      "execution_count": 0,
      "outputs": []
    },
    {
      "metadata": {
        "id": "ZSsPCj_39FSJ",
        "colab_type": "text"
      },
      "cell_type": "markdown",
      "source": [
        "####Always change the Hardware Accelerator to GPU before mouting your Drive"
      ]
    },
    {
      "metadata": {
        "id": "XublKyYy9OwJ",
        "colab_type": "text"
      },
      "cell_type": "markdown",
      "source": [
        "![GPU](https://cdn-images-1.medium.com/max/1600/1*WNovJnpGMOys8Rv7YIsZzA.png)"
      ]
    }
  ]
}